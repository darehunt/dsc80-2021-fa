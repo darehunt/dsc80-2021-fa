{
 "cells": [
  {
   "cell_type": "code",
   "execution_count": null,
   "metadata": {},
   "outputs": [],
   "source": [
    "%config InlineBackend.figure_format='retina'"
   ]
  },
  {
   "cell_type": "markdown",
   "metadata": {
    "slideshow": {
     "slide_type": "slide"
    }
   },
   "source": [
    "# DSC 80\n",
    "The Practice and Application of Data Science\n",
    "\n",
    "**Fall 2021**"
   ]
  },
  {
   "cell_type": "markdown",
   "metadata": {
    "slideshow": {
     "slide_type": "slide"
    }
   },
   "source": [
    "### Part 1\n",
    "\n",
    "# Syllabus and Course Info"
   ]
  },
  {
   "cell_type": "markdown",
   "metadata": {
    "slideshow": {
     "slide_type": "slide"
    }
   },
   "source": [
    "## Course Goals\n",
    "\n",
    "* Practice translating potentially vague questions into quantitative questions about measurable observations.\n",
    "* Learn to reason about 'black-box' processes (e.g. complicated models).\n",
    "* Understand computational and statistical implications of working with data.\n",
    "* Learn to use real data tools (e.g. love the documentation!).\n",
    "* Give a taste of the \"life of a data scientist\"."
   ]
  },
  {
   "cell_type": "markdown",
   "metadata": {
    "slideshow": {
     "slide_type": "slide"
    }
   },
   "source": [
    "## Course Outcomes\n",
    "\n",
    "* Prepare you for internships and data science \"take home\" interviews!\n",
    "* Enable you to create your own portfolio of personal projects.\n",
    "* Prepare you for upper-division ML and Stats courses (material and maturity)."
   ]
  },
  {
   "cell_type": "markdown",
   "metadata": {
    "slideshow": {
     "slide_type": "slide"
    }
   },
   "source": [
    "## Schedule\n",
    "\n",
    "- Week 1:\n",
    "Tables and Messy Data\n",
    "- Week 2:\n",
    "Hypothesis Testing and Data Granularity\n",
    "- Week 3:\n",
    "Permutation Tests\n",
    "- Week 4:\n",
    "Missingness\n",
    "- Week 5:\n",
    "HTTP and HTML\n",
    "- Week 6:\n",
    "Regex\n",
    "- Week 7:\n",
    "Features and sklearn\n",
    "- Week 8:\n",
    "Thanksgiving Week\n",
    "- Week 9:\n",
    "Model Selection\n",
    "- Week 10:\n",
    "Model Evaluation and Fairness"
   ]
  },
  {
   "cell_type": "markdown",
   "metadata": {
    "slideshow": {
     "slide_type": "slide"
    }
   },
   "source": [
    "## Course Materials and Information\n",
    "\n",
    "* The course [website](http://dsc80.com/): syllabus, links, schedule.\n",
    "    - http://dsc80.com"
   ]
  },
  {
   "cell_type": "markdown",
   "metadata": {
    "slideshow": {
     "slide_type": "slide"
    }
   },
   "source": [
    "## Course Materials on GitHub\n",
    "\n",
    "* The course [github repository](https://github.com/dsc-courses/dsc80-2021-fa): assignments, lectures, references.\n",
    "    - https://github.com/dsc-courses/dsc80-2021-fa"
   ]
  },
  {
   "cell_type": "markdown",
   "metadata": {
    "slideshow": {
     "slide_type": "slide"
    }
   },
   "source": [
    "## Course Materials\n",
    "\n",
    "* This is (still) a new course (anywhere!); be patient, please. 😁\n",
    "* We kinda-sorta have a book! (finally!)\n",
    "    - https://afraenkel.github.io/practical-data-science\n",
    "    - the lecture slides serve as main source of information and practice.\n",
    "    \n",
    "* Just like a working Data Scientist:\n",
    "    - using new, evolving tools requires doing your own research!\n",
    "    - using real data require doing your own research!\n",
    "    - *You* will be responsible for assessing the correctness of your research!"
   ]
  },
  {
   "cell_type": "markdown",
   "metadata": {
    "slideshow": {
     "slide_type": "slide"
    }
   },
   "source": [
    "## Secondary references\n",
    "\n",
    "* Wes McKinney. \"Python for Data Analysis\" ([Link - requires UCSD internet](proquest.safaribooksonline.com/9781449323592))\n",
    "* Sam Lau, Joey Gonzalez, and Deb Nolan. \"Principles and Techniques of Data Science\" (https://www.textbook.ds100.org/)\n",
    "* Ani Adhikari and John DeNero. \"Computational and Inferential Thinking\" (https://www.inferentialthinking.com)\n",
    "* On-line tutorials are great, but be sure to understand the *concepts* in the lecture!"
   ]
  },
  {
   "cell_type": "markdown",
   "metadata": {
    "slideshow": {
     "slide_type": "slide"
    }
   },
   "source": [
    "## Working locally vs remotely\n",
    "\n",
    "- You can choose to set up your own Python environment or use DataHub\n",
    "- We recommend setting up a local environment with Anaconda Python\n",
    "- Tips: http://dsc80.com/tech_support.html\n",
    "- Materials will be available on GitHub; you'll need to use Git\n",
    "- Assignments are submitted to Gradescope, though (not using git)\n",
    "- demo?"
   ]
  },
  {
   "cell_type": "markdown",
   "metadata": {
    "slideshow": {
     "slide_type": "slide"
    }
   },
   "source": [
    "## A few last remarks...\n",
    "\n",
    "* This course requires *a lot* of work; gaining fluency working with data is hard!\n",
    "* You will have to learn things on your own (e.g. love the documentation).\n",
    "* Learning to effectively check your work (and debug) pays dividends:\n",
    "    - Does my answer *look* right for the context?\n",
    "    - Does my code do what I think? (small data testing)\n",
    "    - Does my code generalize properly? (unseen data testing)"
   ]
  },
  {
   "cell_type": "markdown",
   "metadata": {
    "slideshow": {
     "slide_type": "slide"
    }
   },
   "source": [
    "### Part 1\n",
    "\n",
    "# What is a data scientist, anyways?"
   ]
  },
  {
   "cell_type": "markdown",
   "metadata": {
    "slideshow": {
     "slide_type": "slide"
    }
   },
   "source": [
    "# What is a data scientist?\n",
    "\n",
    "<div class=\"image-txt-container\">\n",
    "    \n",
    "* [The Venn Diagram](http://drewconway.com/zia/2013/3/26/the-data-science-venn-diagram), Drew Conway, 2010\n",
    "* Statistics: drawing conclusions.\n",
    "* Hacking: extracting information.\n",
    "* Substantive Expertise: understanding context.\n",
    "\n",
    "<img src=\"imgs/image_0.png\">\n",
    "\n",
    "</div>"
   ]
  },
  {
   "cell_type": "markdown",
   "metadata": {
    "slideshow": {
     "slide_type": "slide"
    }
   },
   "source": [
    "# What is a data scientist?\n",
    "\n",
    "<div class=\"image-txt-container\">\n",
    "\n",
    "* [Battle of the Data Science Venn Diagrams](http://www.prooffreader.com/2016/09/battle-of-data-science-venn-diagrams.html)\n",
    "* Stephan Kolassa, 2014\n",
    "* Data Science is expanding and maturing.\n",
    "* Find a niche you enjoy!\n",
    "* Understanding a little of everything is powerful.\n",
    "\n",
    "<img src=\"imgs/image_1.png\">\n",
    "\n",
    "</div>"
   ]
  },
  {
   "cell_type": "markdown",
   "metadata": {
    "slideshow": {
     "slide_type": "slide"
    }
   },
   "source": [
    "## What is a data scientist?\n",
    "\n",
    "Who knows? What do data scientists do?\n",
    "\n",
    "* Extracts usable information from data. (~CS)\n",
    "* Uses that information to answer questions. (~Stats)\n",
    "* Uses that information to solve problems. (~Science)\n",
    "\n",
    "Let's look at a few examples..."
   ]
  },
  {
   "cell_type": "markdown",
   "metadata": {
    "slideshow": {
     "slide_type": "slide"
    }
   },
   "source": [
    "## Predicting Elections\n",
    "\n",
    "<div class=\"image-txt-container\">\n",
    "    <div></div>\n",
    "        \n",
    "* What does the electorate look like?\n",
    "* What are the important traits?\n",
    "* How do we gather/measure those traits?\n",
    "* Quantify into a model / Draw conclusion with confidence!\n",
    "        \n",
    "<img src=\"imgs/538.png\" width=\"50%\">\n",
    "</div>"
   ]
  },
  {
   "cell_type": "markdown",
   "metadata": {
    "slideshow": {
     "slide_type": "slide"
    }
   },
   "source": [
    "## Internet Advertisements\n",
    "Can using internet ads increase a dealership's truck sales?\n",
    "\n",
    "<div class=\"image-txt-container\">\n",
    "    <div></div>\n",
    "        \n",
    "* How likely is a person to click?\n",
    "* Who is it shown to?\n",
    "* How do ad clicks translate to sales? \n",
    "* Are they *causing* higher sales?\n",
    "* What data should I collect?\n",
    "\n",
    "<img src=\"imgs/internet_ads.gif\" width=\"500\">\n",
    "</div>\n",
    "\n",
    "\n"
   ]
  },
  {
   "cell_type": "markdown",
   "metadata": {
    "slideshow": {
     "slide_type": "slide"
    }
   },
   "source": [
    "## Image recognition for celebrity GIFs\n",
    "\n",
    "[Gfycat](https://www.wired.com/story/how-coders-are-fighting-bias-in-facial-recognition-software/) resolves celebrity faces to generate memes.\n",
    "\n",
    "<div class=\"image-txt-container\">\n",
    "<img src=\"imgs/Chris.png\" width=\"50%\">\n",
    "<img src=\"imgs/Twice.png\" width=\"50%\">\n",
    "</div>\n",
    "\n",
    "\n"
   ]
  },
  {
   "cell_type": "markdown",
   "metadata": {
    "slideshow": {
     "slide_type": "slide"
    }
   },
   "source": [
    "## Data Science requires responsible practice\n",
    "\n",
    "<div class=\"image-txt-container\">\n",
    "    \n",
    "- Easy to obscure complex decisions made with data:\n",
    "    * 2009 market crash.\n",
    "    * Criminal sentencing.\n",
    "    * Hiring and Admissions.\n",
    "    * Hyper-personalized ad recommendations.\n",
    "\n",
    "<img src=\"imgs/image_2.png\" width=\"50%\">\n",
    "\n",
    "</div>"
   ]
  },
  {
   "cell_type": "markdown",
   "metadata": {
    "slideshow": {
     "slide_type": "slide"
    }
   },
   "source": [
    "## Data Science requires responsible practice\n",
    "\n",
    "<div class=\"image-txt-container\">\n",
    "    \n",
    "* Reinforcing historical trends and biases:\n",
    "    - Hiring based on previous hiring data.\n",
    "    - Criminal sentencing using previous decisions.\n",
    "    - Social media, news, and politics\n",
    "\n",
    "* Data is generated by people; treat people responsibly!\n",
    "\n",
    "\n",
    "<img src=\"imgs/image_2.png\" width=\"50%\">\n",
    "\n",
    "</div>"
   ]
  },
  {
   "cell_type": "markdown",
   "metadata": {
    "slideshow": {
     "slide_type": "slide"
    }
   },
   "source": [
    "### Part 3\n",
    "\n",
    "# The (Applied) Data Science Lifecycle"
   ]
  },
  {
   "cell_type": "markdown",
   "metadata": {
    "slideshow": {
     "slide_type": "slide"
    }
   },
   "source": [
    "## The scientific method hides complexity\n",
    "\n",
    "<div class=\"image-txt-container\">\n",
    "    \n",
    "* From what context did your hypothesis come?\n",
    "* What data are you using/measuring?\n",
    "    - What if the data isn't sufficient?\n",
    "* Under which conditions are the conclusions valid?\n",
    "* The language of modeling helps answer these questions.\n",
    "\n",
    "<img src=\"imgs/image_3.png\">\n",
    "\n",
    "</div>"
   ]
  },
  {
   "cell_type": "markdown",
   "metadata": {
    "slideshow": {
     "slide_type": "slide"
    }
   },
   "source": [
    "### The Data Science Life-cycle: Everything leads to more questions!\n",
    "<img src=\"imgs/DSLC.png\" width=\"40%\">"
   ]
  },
  {
   "cell_type": "markdown",
   "metadata": {
    "slideshow": {
     "slide_type": "slide"
    }
   },
   "source": [
    "<img src=\"./imgs/eeg.png\" width=60%>"
   ]
  },
  {
   "cell_type": "markdown",
   "metadata": {
    "slideshow": {
     "slide_type": "slide"
    }
   },
   "source": [
    "### Research Domain\n",
    "\n",
    "<div class=\"image-txt-container\">\n",
    "    <div></div>\n",
    "\n",
    "* What subject do we care about?\n",
    "* How is relevant data generated?\n",
    "\n",
    "<img src=\"imgs/DSLC.png\">\n",
    "</div>\n",
    "\n",
    "\n",
    "\n"
   ]
  },
  {
   "cell_type": "markdown",
   "metadata": {
    "slideshow": {
     "slide_type": "slide"
    }
   },
   "source": [
    "### Question or Hypothesis\n",
    "\n",
    "<div class=\"image-txt-container\">\n",
    "    <div></div>\n",
    "\n",
    "* What do we want to know?\n",
    "* What problem are we trying to solve?\n",
    "* What are our metrics for success?\n",
    "* Hypotheses are refined from any stage of work!\n",
    "\n",
    "<img src=\"imgs/DSLC.png\">\n",
    "</div>"
   ]
  },
  {
   "cell_type": "markdown",
   "metadata": {
    "slideshow": {
     "slide_type": "slide"
    }
   },
   "source": [
    "### Find and Clean Data\n",
    "\n",
    "<div class=\"image-txt-container\">\n",
    "    <div></div>\n",
    "\n",
    "* What data exists and can it answer the question?\n",
    "* Do we need to collect/measure our own data?\n",
    "* Cleaning the data: does it well-represent the domain?\n",
    "\n",
    "<img src=\"imgs/DSLC.png\">\n",
    "</div>\n"
   ]
  },
  {
   "cell_type": "markdown",
   "metadata": {
    "slideshow": {
     "slide_type": "slide"
    }
   },
   "source": [
    "### Data Modeling\n",
    "\n",
    "<div class=\"image-txt-container\">\n",
    "    <div></div>\n",
    "\n",
    "* What assumptions are made of data to draw conclusions?\n",
    "* What biases or anomalies exist in the data?\n",
    "* How is the data simplified to use for predictions and inference?\n",
    "\n",
    "<img src=\"imgs/DSLC.png\">\n",
    "</div>\n",
    "\n"
   ]
  },
  {
   "cell_type": "markdown",
   "metadata": {
    "slideshow": {
     "slide_type": "slide"
    }
   },
   "source": [
    "### Predictions and Inference\n",
    "\n",
    "<div class=\"image-txt-container\">\n",
    "    <div></div>\n",
    "\n",
    "* What does the data say about the world?\n",
    "* Does it answer our questions? Solve our problem?\n",
    "* Can we trust our conclusions and predictions?\n",
    "\n",
    "<img src=\"imgs/DSLC.png\">\n",
    "</div>\n",
    "\n",
    "\n"
   ]
  },
  {
   "cell_type": "markdown",
   "metadata": {
    "slideshow": {
     "slide_type": "slide"
    }
   },
   "source": [
    "## Aside\n",
    "\n",
    "- I called this the *applied* data science lifecycle\n",
    "- I think you can be a *theoretical* data scientist, too\n",
    "    - Do math and prove stuff.\n",
    "- But either way, you should be familiar with the applied data science lifecycle."
   ]
  },
  {
   "cell_type": "markdown",
   "metadata": {
    "slideshow": {
     "slide_type": "slide"
    }
   },
   "source": [
    "### Part 4\n",
    "\n",
    "# Example: SD Employee Salaries"
   ]
  },
  {
   "cell_type": "code",
   "execution_count": null,
   "metadata": {},
   "outputs": [],
   "source": [
    "%matplotlib inline\n",
    "import pandas as pd\n",
    "import numpy as np\n",
    "import matplotlib.pyplot as plt\n",
    "\n",
    "import util"
   ]
  },
  {
   "cell_type": "markdown",
   "metadata": {
    "slideshow": {
     "slide_type": "slide"
    }
   },
   "source": [
    "### Research Domain & Questions\n",
    "\n",
    "<img src=\"imgs/DSLC.png\">\n",
    "</div>\n",
    "\n",
    "\n"
   ]
  },
  {
   "cell_type": "markdown",
   "metadata": {
    "slideshow": {
     "slide_type": "slide"
    }
   },
   "source": [
    "## Example: SD Employee Salaries\n",
    "\n",
    "* Build a \"profile\" of city of SD employees?\n",
    "* Which jobs make more/less? How much?\n",
    "* Who works part-time? full-time?\n",
    "* Are salaries \"fair\"?"
   ]
  },
  {
   "cell_type": "markdown",
   "metadata": {
    "slideshow": {
     "slide_type": "slide"
    }
   },
   "source": [
    "### SD Employee Salaries: background research\n",
    "\n",
    "* Why try to understand this dataset?\n",
    "    - Such a profile could inform 3rd party workplace programs.\n",
    "    - Journalists might search for salary anomalies.\n",
    "    - Auditors may want actionable advice on fair employment practices."
   ]
  },
  {
   "cell_type": "markdown",
   "metadata": {
    "slideshow": {
     "slide_type": "slide"
    }
   },
   "source": [
    "### Find and Clean Data\n",
    "\n",
    "<img src=\"imgs/DSLC.png\">\n",
    "</div>\n",
    "\n",
    "\n"
   ]
  },
  {
   "cell_type": "markdown",
   "metadata": {
    "slideshow": {
     "slide_type": "slide"
    }
   },
   "source": [
    "### Initial look at the data\n",
    "* [Transparent California](https://transparentcalifornia.com/salaries/san-diego/) salary website."
   ]
  },
  {
   "cell_type": "code",
   "execution_count": null,
   "metadata": {},
   "outputs": [],
   "source": [
    "salary_path = util.safe_download('https://transcal.s3.amazonaws.com/public/export/san-diego-2017.csv')"
   ]
  },
  {
   "cell_type": "code",
   "execution_count": null,
   "metadata": {
    "scrolled": true
   },
   "outputs": [],
   "source": [
    "salaries = pd.read_csv(salary_path)\n",
    "util.anonymize_names(salaries)\n",
    "salaries"
   ]
  },
  {
   "cell_type": "markdown",
   "metadata": {
    "slideshow": {
     "slide_type": "slide"
    }
   },
   "source": [
    "### Aside on privacy and ethics\n",
    "\n",
    "* Employee names correspond to *real* people.\n",
    "* PII (personably identifiable information).\n",
    "* Legal vs Ethical:\n",
    "    - Public record vs Searchable record.\n",
    "    - Don't propagate people's data."
   ]
  },
  {
   "cell_type": "markdown",
   "metadata": {
    "slideshow": {
     "slide_type": "slide"
    }
   },
   "source": [
    "### Cleaning data / EDA\n",
    "* Not something we did much of in DSC 10\n",
    "* A *huge* component of real-world data science\n",
    "* What does \"typical\" look like?\n",
    "* Any questions about data reliability?"
   ]
  },
  {
   "cell_type": "code",
   "execution_count": null,
   "metadata": {},
   "outputs": [],
   "source": [
    "# .T is for transpose()\n",
    "salaries.describe().T"
   ]
  },
  {
   "cell_type": "markdown",
   "metadata": {
    "slideshow": {
     "slide_type": "notes"
    }
   },
   "source": [
    "* Negative payments? Near zero salaries?\n",
    "* Where is \"Other Pay\"?\n",
    "* Max values -- are outliers real?"
   ]
  },
  {
   "cell_type": "markdown",
   "metadata": {
    "slideshow": {
     "slide_type": "slide"
    }
   },
   "source": [
    "### Empirical Distribution of Salaries\n",
    "* Bimodal (two distributions?)\n",
    "* Typical skew, since pay is (or should be) positive > 0"
   ]
  },
  {
   "cell_type": "code",
   "execution_count": null,
   "metadata": {},
   "outputs": [],
   "source": [
    "salaries['Total Pay'].plot(kind='hist', bins=50, density=True);"
   ]
  },
  {
   "cell_type": "markdown",
   "metadata": {
    "slideshow": {
     "slide_type": "slide"
    }
   },
   "source": [
    "### Empirical Distribution of Salaries\n",
    "* Part-time vs full-time"
   ]
  },
  {
   "cell_type": "code",
   "execution_count": null,
   "metadata": {},
   "outputs": [],
   "source": [
    "bystatus = salaries.groupby('Status')\n",
    "bystatus['Total Pay'].plot(kind='kde', alpha=0.5, title='Salary by Full-time/Part-time')\n",
    "plt.legend(bystatus.groups);"
   ]
  },
  {
   "cell_type": "markdown",
   "metadata": {
    "slideshow": {
     "slide_type": "slide"
    }
   },
   "source": [
    "### Does gender influence pay?\n",
    "* Do employees of different genders have similar pay?\n",
    "* Don't have gender information in our salary data.\n",
    "    - Do have (first) names of employees!\n",
    "    - Join to Social Security Administration \"baby names\" dataset!"
   ]
  },
  {
   "cell_type": "code",
   "execution_count": null,
   "metadata": {},
   "outputs": [],
   "source": [
    "names_path = util.safe_download('https://www.ssa.gov/oact/babynames/names.zip')"
   ]
  },
  {
   "cell_type": "code",
   "execution_count": null,
   "metadata": {},
   "outputs": [],
   "source": [
    "import pathlib\n",
    "\n",
    "dfs = []\n",
    "for path in pathlib.Path('data/names/').glob('*.txt'):\n",
    "    year = int(str(path)[14:18])\n",
    "    if year >= 1964:\n",
    "        df = pd.read_csv(path, names=['firstname', 'gender', 'count']).assign(year=year)\n",
    "        dfs.append(df)\n",
    "        \n",
    "names = pd.concat(dfs)\n",
    "names"
   ]
  },
  {
   "cell_type": "markdown",
   "metadata": {
    "slideshow": {
     "slide_type": "slide"
    }
   },
   "source": [
    "### SSA names dataset\n",
    "* Contains the list of names on social security applications\n",
    "* For each name, it contains:\n",
    "    - the number of applications per year identified as Male/Female\n",
    "* We want a list of names and most likely gender to join to `salaries`.\n",
    "* Note that data set contains only \"M\" and \"F\""
   ]
  },
  {
   "cell_type": "markdown",
   "metadata": {
    "slideshow": {
     "slide_type": "slide"
    }
   },
   "source": [
    "### Basic check of `names`:\n",
    "* Many names have nonzero counts for both M and F\n",
    "* Most names occur only a few times per year.\n",
    "* A few names occur very often."
   ]
  },
  {
   "cell_type": "code",
   "execution_count": null,
   "metadata": {},
   "outputs": [],
   "source": [
    "# glance at data\n",
    "names.head()"
   ]
  },
  {
   "cell_type": "code",
   "execution_count": null,
   "metadata": {
    "scrolled": true
   },
   "outputs": [],
   "source": [
    "# look at a single name\n",
    "names[names['firstname'] == 'Madison']"
   ]
  },
  {
   "cell_type": "code",
   "execution_count": null,
   "metadata": {},
   "outputs": [],
   "source": [
    "# look at statistics of counts\n",
    "names.describe()"
   ]
  },
  {
   "cell_type": "markdown",
   "metadata": {
    "slideshow": {
     "slide_type": "slide"
    }
   },
   "source": [
    "### Data Modeling\n",
    "\n",
    "<img src=\"imgs/DSLC.png\">\n",
    "</div>\n"
   ]
  },
  {
   "cell_type": "markdown",
   "metadata": {
    "slideshow": {
     "slide_type": "slide"
    }
   },
   "source": [
    "### Approach to inferring gender:\n",
    "\n",
    "* Our model: if someone has a name that is predominantly used by gender $\\alpha$, we'll infer their gender to be $\\alpha$.\n",
    "    - This isn't 100 accurate!\n",
    "    - But it should be good enough in aggregate.\n",
    "\n",
    "* Create a data frame of distinct names with the proportion of applications on which that name identifies as female. \n",
    "* That is, for each name $N$, we compute:\n",
    "$$P({\\rm person\\ is\\ female\\ }|{\\rm \\ person\\ has\\ first\\ name\\ } N)$$\n",
    "\n",
    "* Join this data frame to the salaries dataset"
   ]
  },
  {
   "cell_type": "markdown",
   "metadata": {
    "slideshow": {
     "slide_type": "slide"
    }
   },
   "source": [
    "### Calculate names and their most likely genders"
   ]
  },
  {
   "cell_type": "code",
   "execution_count": null,
   "metadata": {},
   "outputs": [],
   "source": [
    "# Counts by gender\n",
    "\n",
    "counts_by_gender = (\n",
    "    names\n",
    "    .groupby(['firstname', 'gender'])\n",
    "    .sum()\n",
    "    .reset_index()\n",
    "    .pivot('firstname', 'gender', 'count')\n",
    "    .fillna(0)\n",
    ")\n",
    "counts_by_gender"
   ]
  },
  {
   "cell_type": "code",
   "execution_count": null,
   "metadata": {},
   "outputs": [],
   "source": [
    "# proportion of a given name that's identified female\n",
    "prop_female = (counts_by_gender['F'] / counts_by_gender.sum(axis=1))\n",
    "prop_female.head(10)"
   ]
  },
  {
   "cell_type": "code",
   "execution_count": null,
   "metadata": {},
   "outputs": [],
   "source": [
    "genders = prop_female.rename('prop_female').to_frame().assign(gender=np.where((prop_female > 0.5), 'F', 'M'))\n",
    "genders"
   ]
  },
  {
   "cell_type": "markdown",
   "metadata": {
    "slideshow": {
     "slide_type": "slide"
    }
   },
   "source": [
    "### Add a given name column to `salaries` and join names"
   ]
  },
  {
   "cell_type": "code",
   "execution_count": null,
   "metadata": {},
   "outputs": [],
   "source": [
    "# Add firstname column\n",
    "salaries['firstname'] = salaries['Employee Name'].str.split().str[0]\n",
    "salaries"
   ]
  },
  {
   "cell_type": "code",
   "execution_count": null,
   "metadata": {},
   "outputs": [],
   "source": [
    "# join gender\n",
    "salaries_with_gender = salaries.merge(genders, on='firstname', how='left')\n",
    "salaries_with_gender.head()"
   ]
  },
  {
   "cell_type": "markdown",
   "metadata": {
    "slideshow": {
     "slide_type": "slide"
    }
   },
   "source": [
    "### Predictions and Inference\n",
    "\n",
    "<img src=\"imgs/DSLC.png\">\n",
    "</div>\n",
    "\n",
    "\n"
   ]
  },
  {
   "cell_type": "markdown",
   "metadata": {
    "slideshow": {
     "slide_type": "slide"
    }
   },
   "source": [
    "### Do women earn similar pay to their contemporaries?\n",
    "* Is this difference significant, or just due to chance?"
   ]
  },
  {
   "cell_type": "code",
   "execution_count": null,
   "metadata": {},
   "outputs": [],
   "source": [
    "pd.concat([\n",
    "    salaries_with_gender.groupby('gender')['Total Pay'].describe().T,\n",
    "    salaries_with_gender['Total Pay'].describe().rename('All')\n",
    "], axis=1)"
   ]
  },
  {
   "cell_type": "markdown",
   "metadata": {
    "slideshow": {
     "slide_type": "slide"
    }
   },
   "source": [
    "### Use a hypothesis test\n",
    "* Can women's median pay be explained as a random subset of the population of city of SD salaries?\n",
    "    - If so, the salary of women doesn't significantly differ from the population\n",
    "    - If not, some other mechanism is needed to explain the difference!"
   ]
  },
  {
   "cell_type": "code",
   "execution_count": null,
   "metadata": {},
   "outputs": [],
   "source": [
    "# size of sample is number of women:\n",
    "n_female = (salaries_with_gender['gender'] == 'F').sum()\n",
    "\n",
    "\n",
    "# calculate observed \n",
    "female_median = salaries_with_gender.loc[salaries_with_gender['gender'] == 'F']['Total Pay'].median()\n",
    "\n",
    "\n",
    "# simulate 1000 draws from the population of size n_female\n",
    "medians = []\n",
    "for _ in np.arange(1000):\n",
    "    median = salaries_with_gender.sample(n_female)['Total Pay'].median()\n",
    "    medians.append(median)"
   ]
  },
  {
   "cell_type": "code",
   "execution_count": null,
   "metadata": {},
   "outputs": [],
   "source": [
    "title='Median salary of randomly chosen groups from population'\n",
    "pd.Series(medians).plot(kind='hist', title=title);\n",
    "plt.plot([female_median], [0], marker='o', markersize=10)\n",
    "plt.legend(['Observed Median Salary of Women', 'Median Salaries of Random Groups']);"
   ]
  },
  {
   "cell_type": "code",
   "execution_count": null,
   "metadata": {},
   "outputs": [],
   "source": []
  },
  {
   "cell_type": "markdown",
   "metadata": {
    "slideshow": {
     "slide_type": "slide"
    }
   },
   "source": [
    "### Part 5\n",
    "\n",
    "# The Truism of Data Science\n",
    "\n",
    "### or how answering one question always raises 10 more"
   ]
  },
  {
   "cell_type": "markdown",
   "metadata": {
    "slideshow": {
     "slide_type": "slide"
    }
   },
   "source": [
    "### Questions:\n",
    "\n",
    "* Can we trust the SD employee population?\n",
    "* Can we trust the name-to-gender assignment?\n",
    "* Can we trust our join?\n",
    "* Is the disparity correlated to pay-type? job status? job type?\n",
    "* What is the cause of the disparity?"
   ]
  },
  {
   "cell_type": "markdown",
   "metadata": {
    "slideshow": {
     "slide_type": "slide"
    }
   },
   "source": [
    "### Can we trust the SD employee population?\n",
    "\n",
    "* Look up the \"transparent california\" and verify this dataset is a *census* (everyone).\n",
    "* Is \"Total Pay\" the most appropriate field to use?\n",
    "* Cross-reference independent counts of city of SD employees to assess the salary data."
   ]
  },
  {
   "cell_type": "markdown",
   "metadata": {
    "slideshow": {
     "slide_type": "slide"
    }
   },
   "source": [
    "### Can we trust the name-to-gender assignment?\n",
    "* How many names are borderline male/female?\n",
    "* Does it make sense we incorporate name usage from 1880-2017?"
   ]
  },
  {
   "cell_type": "code",
   "execution_count": null,
   "metadata": {},
   "outputs": [],
   "source": [
    "title = 'distribution of gendered-ness of names\\n 0 = masculine \\n 1 = feminine'\n",
    "prop_female.plot(kind='hist', bins=20, title=title);"
   ]
  },
  {
   "cell_type": "markdown",
   "metadata": {
    "slideshow": {
     "slide_type": "slide"
    }
   },
   "source": [
    "### Can we trust our join?\n",
    "* Are there names in the salary dataset that aren't in the SSA dataset?\n",
    "    - Who might not be in the SSA dataset? \n",
    "    - Might they be biased toward certain salaries?\n",
    "* Does the salary dataset have a disproportionately large portion of unisex names.\n",
    "* Is it better to use a subset of the SSA dataset (e.g. by state?)\n",
    "    - Do the gender of names typically vary by geography?"
   ]
  },
  {
   "cell_type": "markdown",
   "metadata": {
    "slideshow": {
     "slide_type": "slide"
    }
   },
   "source": [
    "### Can we trust our join?"
   ]
  },
  {
   "cell_type": "code",
   "execution_count": null,
   "metadata": {},
   "outputs": [],
   "source": [
    "# proportion of employees not in SSA dataset\n",
    "salaries_with_gender['gender'].isnull().mean()"
   ]
  },
  {
   "cell_type": "code",
   "execution_count": null,
   "metadata": {
    "scrolled": false
   },
   "outputs": [],
   "source": [
    "# Description of total pay by joined vs not joined\n",
    "(\n",
    "    salaries_with_gender\n",
    "    .assign(joined=salaries_with_gender['gender'].notnull())\n",
    "    .groupby('joined')['Total Pay']\n",
    "    .describe()\n",
    "    .T\n",
    ")"
   ]
  },
  {
   "cell_type": "code",
   "execution_count": null,
   "metadata": {
    "scrolled": false
   },
   "outputs": [],
   "source": [
    "nonjoins = salaries_with_gender.loc[salaries_with_gender['gender'].isnull()]\n",
    "\n",
    "title = 'Distribution of Salaries'\n",
    "nonjoins['Total Pay'].plot(kind='hist', bins=50, alpha=0.5, density=True, sharex=True)\n",
    "salaries_with_gender['Total Pay'].plot(kind='hist', bins=50, alpha=0.5, density=True, sharex=True, title=title)\n",
    "plt.legend(['Not in SSA','All']);"
   ]
  },
  {
   "cell_type": "code",
   "execution_count": null,
   "metadata": {},
   "outputs": [],
   "source": []
  },
  {
   "cell_type": "code",
   "execution_count": null,
   "metadata": {},
   "outputs": [],
   "source": []
  },
  {
   "cell_type": "code",
   "execution_count": null,
   "metadata": {},
   "outputs": [],
   "source": []
  },
  {
   "cell_type": "markdown",
   "metadata": {
    "slideshow": {
     "slide_type": "slide"
    }
   },
   "source": [
    "### Can we trust our join?\n",
    "* Lesson: joining to another dataset can bias your sample! "
   ]
  },
  {
   "cell_type": "markdown",
   "metadata": {
    "slideshow": {
     "slide_type": "slide"
    }
   },
   "source": [
    "### Is the pay disparity correlated to another field? job status? job type?\n",
    "* Is the proportion of women in a job type correlated to pay?\n",
    "    - Controlling for job type, do women earn similar salaries?"
   ]
  },
  {
   "cell_type": "code",
   "execution_count": null,
   "metadata": {
    "scrolled": false
   },
   "outputs": [],
   "source": [
    "# select jobs with word 'fire' in them\n",
    "firejobs = salaries_with_gender.loc[salaries_with_gender['Job Title'].str.contains('Fire')]\n",
    "firejobs.head()"
   ]
  },
  {
   "cell_type": "code",
   "execution_count": null,
   "metadata": {},
   "outputs": [],
   "source": [
    "# Proportion of fire-related jobs held by women\n",
    "(firejobs['gender'] == 'F').mean()"
   ]
  },
  {
   "cell_type": "code",
   "execution_count": null,
   "metadata": {},
   "outputs": [],
   "source": [
    "# Pay Statistics for fire-related jobs\n",
    "firejobs['Total Pay'].describe()"
   ]
  },
  {
   "cell_type": "code",
   "execution_count": null,
   "metadata": {},
   "outputs": [],
   "source": [
    "# select jobs with library related jobs\n",
    "libjobs = salaries_with_gender.loc[salaries_with_gender['Job Title'].str.contains('Librar')]\n",
    "libjobs.head()"
   ]
  },
  {
   "cell_type": "code",
   "execution_count": null,
   "metadata": {},
   "outputs": [],
   "source": [
    "# Proportion of library-related jobs held by women\n",
    "(libjobs['gender'] == 'F').mean()"
   ]
  },
  {
   "cell_type": "code",
   "execution_count": null,
   "metadata": {},
   "outputs": [],
   "source": [
    "# Pay Statistics for fire-related jobs\n",
    "libjobs['Total Pay'].describe()"
   ]
  },
  {
   "cell_type": "code",
   "execution_count": null,
   "metadata": {},
   "outputs": [],
   "source": []
  },
  {
   "cell_type": "code",
   "execution_count": null,
   "metadata": {},
   "outputs": [],
   "source": []
  },
  {
   "cell_type": "code",
   "execution_count": null,
   "metadata": {},
   "outputs": [],
   "source": []
  },
  {
   "cell_type": "markdown",
   "metadata": {
    "slideshow": {
     "slide_type": "slide"
    }
   },
   "source": [
    "### What is the cause of the disparity?\n",
    "* Now that the picture is better understood, you can:\n",
    "    - Research historical gender preferences across jobs\n",
    "    - list possibilities and formulate hypothesis for a cause,\n",
    "    - find data capable of describing these possibilities,\n",
    "    - use a [natural experiment](https://en.wikipedia.org/wiki/Natural_experiment) to argue causality."
   ]
  },
  {
   "cell_type": "markdown",
   "metadata": {
    "slideshow": {
     "slide_type": "slide"
    }
   },
   "source": [
    "### Possible follow-ups\n",
    "* Clean job titles to reflect broader job categories.\n",
    "* Further investigate correlation between job categories and gender proportions.\n",
    "* Do the analogous investigation with age in place of gender."
   ]
  },
  {
   "cell_type": "code",
   "execution_count": null,
   "metadata": {},
   "outputs": [],
   "source": []
  },
  {
   "cell_type": "code",
   "execution_count": null,
   "metadata": {},
   "outputs": [],
   "source": []
  }
 ],
 "metadata": {
  "celltoolbar": "Slideshow",
  "kernelspec": {
   "display_name": "Python 3",
   "language": "python",
   "name": "python3"
  },
  "language_info": {
   "codemirror_mode": {
    "name": "ipython",
    "version": 3
   },
   "file_extension": ".py",
   "mimetype": "text/x-python",
   "name": "python",
   "nbconvert_exporter": "python",
   "pygments_lexer": "ipython3",
   "version": "3.8.5"
  },
  "livereveal": {
   "scroll": true,
   "transition": "none"
  }
 },
 "nbformat": 4,
 "nbformat_minor": 2
}
